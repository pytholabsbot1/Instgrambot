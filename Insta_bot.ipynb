{
 "cells": [
  {
   "cell_type": "markdown",
   "metadata": {},
   "source": [
    "# Testing"
   ]
  },
  {
   "cell_type": "code",
   "execution_count": 87,
   "metadata": {},
   "outputs": [],
   "source": [
    "# 674C51838F\n",
    ]
  },
  {
   "cell_type": "code",
   "execution_count": 88,
   "metadata": {},
   "outputs": [
    {
     "data": {
      "text/plain": [
       "\"GE Healthcare has announced new applications and smart devices built on Edison - a platform that helps accelerate the development and adoption of Artificial Intelligence technology and empower providers to deliver faster, more precise care. Clinical partners will use Edison to develop algorithms, and technology partners will work with GE Healthcare to bring the latest advancements in data processing to Edison applications and smart devices. Appreciating the technology's potential, GE Healthcare announced the new Edison applications and Edison-powered devices at the recent 104th annual meeting of the Radiological Society of North America.\""
      ]
     },
     "execution_count": 88,
     "metadata": {},
     "output_type": "execute_result"
    }
   ],
   "source": [
    "s.sm_api_content"
   ]
  },
  {
   "cell_type": "markdown",
   "metadata": {},
   "source": [
    "# MAin Code"
   ]
  },
  {
   "cell_type": "code",
   "execution_count": 27,
   "metadata": {},
   "outputs": [],
   "source": [
    "import os \n",
    "\n",
    "os.chdir('smmryAPI-master')"
   ]
  },
  {
   "cell_type": "code",
   "execution_count": 139,
   "metadata": {},
   "outputs": [],
   "source": [
    "from smmryapi import SmmryAPI\n",
    "import requests as req,re\n",
    "from PIL import Image, ImageDraw, ImageFont\n",
    "import numpy as np,matplotlib.pyplot as plt\n",
    "import textwrap as tw\n",
    "\n",
    "%matplotlib inline\n",
    "\n",
    "\n",
    "\n",
    "def get_article(url):\n",
    "   \n",
    "   \n",
    "#message us to know the content inside" 
   ]
  },
  {
   "cell_type": "code",
   "execution_count": 140,
   "metadata": {},
   "outputs": [],
   "source": [
    "def produce_img(head,article,back_color=[255,102,102],head_size=200,fname='0'):\n",
    "    \n",
    "    if(type(article)==type('s')):\n",
    "        st = article\n",
    "        article = [st]\n",
    "        \n",
    "    if(len(tw.wrap(head,28))>3):\n",
    "        head_size -= 30\n",
    "           \n",
    "    \n",
    "    font_head = ImageFont.truetype(r'resources/Anton-Regular.ttf', size=head_size)\n",
    "    font_logo = ImageFont.truetype(r'resources/Noto_Sans/NotoSans-Regular.ttf', size=30)\n",
    "    font_body = ImageFont.truetype(r'resources/Noto_Sans/NotoSans-Regular.ttf', size=30)\n",
    "\n",
    "    # starting position of the message\n",
    "\n",
    "    for i,f in enumerate(article):\n",
    "\n",
    "        img = np.zeros((1080,1080,3),dtype='uint8')\n",
    "        img[:,:] = back_color\n",
    "        \n",
    "        img[-60:,:] = [255,255,255]\n",
    "        \n",
    "        image = Image.fromarray(img,'RGB')\n",
    "        draw = ImageDraw.Draw(image)\n",
    "\n",
    "        (x, y) = (100, 50)\n",
    "        message = '\\n'.join(tw.wrap(head,28))\n",
    "        \n",
    "        color = 'rgb(0, 0, 0)' # black color\n",
    "        # draw the message on the background\n",
    "        draw.text((x, y), message, fill=color, font=font_head)\n",
    "\n",
    "        ##pytholabs logo\n",
    "        draw.text((50, 1030),'Shape your imagination with live Courses at - pytholabs.com', fill=color, font=font_logo)\n",
    "\n",
    "        color = 'rgb(255, 255, 255)' # white color\n",
    "        offset = 0\n",
    "        for sample in tw.wrap(f,60):\n",
    "            draw.text((100, 400+offset), sample, fill=color, font=font_body)\n",
    "            offset +=40\n",
    "\n",
    "        # save the edited image\n",
    "\n",
    "        image.save('resources/out/{}.jpg'.format(fname))\n",
    "        print('saved  ',fname)"
   ]
  },
  {
   "cell_type": "code",
   "execution_count": 141,
   "metadata": {},
   "outputs": [],
   "source": [
    "def start():\n",
    "    \n",
    "    ##fetch aitrends page\n",
    "    page = req.get('https://aitrends.com/').text\n",
    "    \n",
    "    ##processing urls\n",
    "    urls = [page[i.start():i.end()] for i in re.finditer('<a href=\"https://aitrends.com/.*?\\\"',page) if('https://aitrends.com/category' not in page[i.start():i.end()])]\n",
    "    urls = list(set([i.split('\"')[1] for i in urls if(len(re.findall('/',i))>4)]))\n",
    "    \n",
    "    ##filtering any alreeady posted articles\n",
    "    done_urls = open('aitrend_urls.txt','r').read().split('\\n')\n",
    "\n",
    "    ##main loop\n",
    "    for i,ur in enumerate(urls):\n",
    "        if(ur not in done_urls):\n",
    "            \n",
    "            try:\n",
    "                print(ur)\n",
    "                head,article = get_article(ur)\n",
    "                produce_img(head.replace('\\\\',''),article,fname=i,head_size=80)\n",
    "                open('aitrend_urls.txt','a').write(ur+'\\n')\n",
    "\n",
    "            except Exception as e:\n",
    "                print(e,'---------------- ',i)"
   ]
  },
  {
   "cell_type": "code",
   "execution_count": 142,
   "metadata": {},
   "outputs": [
    {
     "name": "stdout",
     "output_type": "stream",
     "text": [
      "https://aitrends.com/2018aitrends/citizen-ai-business-guide-raising-artificial-intelligence-digital-economy/\n",
      "3: THE PAGE COULD NOT BE FOUND ----------------  8\n",
      "https://aitrends.com/mobile/ai-in-smartphones-changing-the-game-for-consumers/\n",
      "3: THE PAGE COULD NOT BE FOUND ----------------  36\n",
      "https://aitrends.com/2018aitrends/5-artificial-intelligence-trends-will-dominate-2018/\n",
      "3: THE PAGE COULD NOT BE FOUND ----------------  48\n",
      "https://aitrends.com/financial-services/eying-savings-state-street-wants-to-use-ai-on-almost-everything/\n",
      "saved   52\n",
      "https://aitrends.com/machine-learning/google-confronts-shortcomings-of-machine-learning/\n",
      "saved   53\n",
      "https://aitrends.com/ecommerce/one-third-shoppers-spend-ai-used/\n",
      "saved   54\n",
      "https://aitrends.com/press-release/darwinai-emerges-from-stealth-with-design-optimization-and-explainability-platform-for-deep-learning/\n",
      "saved   55\n",
      "https://aitrends.com/cognitive-computing/dispelling-five-myths-cognitive-technology/\n",
      "saved   56\n",
      "https://aitrends.com/big-data/wal-mart-still-using-saps-hana-in-business-intelligence/\n",
      "saved   57\n"
     ]
    }
   ],
   "source": [
    "start()\n",
    "\n",
    "\n",
    "\n",
    "# open('aitrend_urls.txt','w')"
   ]
  },
  {
   "cell_type": "markdown",
   "metadata": {},
   "source": [
    "# Post On insta"
   ]
  },
  {
   "cell_type": "code",
   "execution_count": 143,
   "metadata": {},
   "outputs": [
    {
     "name": "stdout",
     "output_type": "stream",
     "text": [
      "Fail to import moviepy. Need only for Video upload.\n",
      "Request return 404 error!\n",
      "Login success!\n",
      "\n",
      "uploaded  0\n",
      "uploaded  1\n",
      "uploaded  2\n",
      "uploaded  3\n",
      "uploaded  4\n",
      "error  5\n",
      "uploaded  6\n",
      "uploaded  7\n",
      "error  8\n",
      "uploaded  9\n",
      "uploaded  10\n",
      "error  11\n",
      "uploaded  12\n",
      "uploaded  13\n",
      "uploaded  14\n",
      "uploaded  15\n",
      "uploaded  16\n",
      "uploaded  17\n",
      "uploaded  18\n",
      "error  19\n",
      "uploaded  20\n",
      "uploaded  21\n",
      "uploaded  22\n",
      "uploaded  23\n",
      "uploaded  24\n",
      "uploaded  25\n",
      "uploaded  26\n",
      "uploaded  27\n",
      "uploaded  28\n",
      "uploaded  29\n",
      "uploaded  30\n",
      "uploaded  31\n",
      "error  32\n",
      "uploaded  33\n",
      "error  34\n",
      "uploaded  35\n",
      "error  36\n",
      "uploaded  37\n",
      "error  38\n",
      "uploaded  39\n",
      "uploaded  40\n",
      "uploaded  41\n",
      "uploaded  42\n",
      "uploaded  43\n",
      "uploaded  44\n",
      "uploaded  45\n",
      "error  46\n",
      "uploaded  47\n",
      "error  48\n",
      "uploaded  49\n",
      "uploaded  50\n",
      "uploaded  51\n",
      "uploaded  52\n",
      "uploaded  53\n",
      "uploaded  54\n",
      "uploaded  55\n",
      "uploaded  56\n",
      "uploaded  57\n",
      "error  58\n",
      "error  59\n",
      "error  60\n",
      "error  61\n",
      "error  62\n",
      "error  63\n",
      "error  64\n",
      "error  65\n",
      "error  66\n",
      "error  67\n",
      "error  68\n",
      "error  69\n",
      "error  70\n",
      "error  71\n",
      "error  72\n",
      "error  73\n",
      "error  74\n",
      "error  75\n",
      "error  76\n",
      "error  77\n",
      "error  78\n",
      "error  79\n",
      "error  80\n",
      "error  81\n",
      "error  82\n",
      "error  83\n",
      "error  84\n",
      "error  85\n",
      "error  86\n",
      "error  87\n",
      "error  88\n",
      "error  89\n",
      "error  90\n",
      "error  91\n",
      "error  92\n",
      "error  93\n",
      "error  94\n",
      "error  95\n",
      "error  96\n",
      "error  97\n",
      "error  98\n",
      "error  99\n",
      "Help on method uploadPhoto in module InstagramAPI.InstagramAPI:\n",
      "\n",
      "uploadPhoto(photo, caption=None, upload_id=None, is_sidecar=None) method of InstagramAPI.InstagramAPI.InstagramAPI instance\n",
      "\n"
     ]
    }
   ],
   "source": [
    "from InstagramAPI import InstagramAPI\n",
    "\n",
    "bot = InstagramAPI('username','password')\n",
    "bot.login()  # logi\n",
    "\n",
    "for i in range(100):\n",
    "    \n",
    "    try:\n",
    "        bot.uploadPhoto('resources/out/{}.jpg'.format(i),caption=\"pytholabs machine learning news for beginners !! #machinelearning #deeplearning #python #datascience #datavisualization #pytholabs #ml #ai #sklearn #machinelearningnews #news\")\n",
    "        print('uploaded ',i)\n",
    "        \n",
    "    except:\n",
    "        print('error ',i)\n",
    "\n",
    "help(bot.uploadPhoto)\n",
    "\n",
    "# help(InstagramAPI)"
   ]
  },
  {
   "cell_type": "code",
   "execution_count": null,
   "metadata": {},
   "outputs": [],
   "source": []
  }
 ],
 "metadata": {
  "kernelspec": {
   "display_name": "Python 3",
   "language": "python",
   "name": "python3"
  },
  "language_info": {
   "codemirror_mode": {
    "name": "ipython",
    "version": 3
   },
   "file_extension": ".py",
   "mimetype": "text/x-python",
   "name": "python",
   "nbconvert_exporter": "python",
   "pygments_lexer": "ipython3",
   "version": "3.6.5"
  }
 },
 "nbformat": 4,
 "nbformat_minor": 2
}
